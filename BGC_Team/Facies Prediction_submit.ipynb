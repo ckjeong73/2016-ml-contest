{
 "cells": [
  {
   "cell_type": "markdown",
   "metadata": {},
   "source": [
    "# Facies Classification Solution By Team_BGC"
   ]
  },
  {
   "cell_type": "markdown",
   "metadata": {},
   "source": [
    "Cheolkyun Jeong and Ping Zhang From Team_BGC"
   ]
  },
  {
   "cell_type": "markdown",
   "metadata": {},
   "source": [
    "## Import Header"
   ]
  },
  {
   "cell_type": "code",
   "execution_count": 28,
   "metadata": {
    "collapsed": false
   },
   "outputs": [],
   "source": [
    "##### import basic function\n",
    "import numpy as np\n",
    "import pandas as pd\n",
    "import matplotlib.pyplot as plt\n",
    "import seaborn as sns\n",
    "%matplotlib inline\n",
    "##### import stuff from scikit learn\n",
    "from sklearn.ensemble import RandomForestClassifier, RandomForestRegressor\n",
    "from sklearn.model_selection import KFold, cross_val_score,LeavePGroupsOut, LeaveOneGroupOut, cross_val_predict\n",
    "from sklearn.metrics import confusion_matrix, make_scorer, f1_score, accuracy_score, recall_score, precision_score"
   ]
  },
  {
   "cell_type": "markdown",
   "metadata": {},
   "source": [
    "## 1. Data Prepocessing\n",
    "\n",
    "1) Filtered data preparation\n",
    "\n",
    "After the initial data validation, we figure out the NM_M input is a key differentiator to group non-marine stones (sandstone, c_siltstone, and f_siltstone) and marine stones (marine_silt_shale, mudstone, wakestone, dolomite, packstone, and bafflestone) in the current field. Our team decides to use this classifier aggressively and prepare a filtered dataset which cleans up the outliers."
   ]
  },
  {
   "cell_type": "code",
   "execution_count": 29,
   "metadata": {
    "collapsed": false
   },
   "outputs": [],
   "source": [
    "# Input file paths\n",
    "facies_vector_path = 'facies_vectors.csv'\n",
    "train_path = 'training_data.csv'\n",
    "test_path = 'validation_data_nofacies.csv'\n",
    "# Read training data to dataframe\n",
    "#training_data = pd.read_csv(train_path)"
   ]
  },
  {
   "cell_type": "markdown",
   "metadata": {},
   "source": [
    "Using Full data to train"
   ]
  },
  {
   "cell_type": "code",
   "execution_count": 30,
   "metadata": {
    "collapsed": true
   },
   "outputs": [],
   "source": [
    "# 1=sandstone  2=c_siltstone   3=f_siltstone # 4=marine_silt_shale \n",
    "#5=mudstone 6=wackestone 7=dolomite 8=packstone 9=bafflestone\n",
    "facies_colors = ['#F4D03F', '#F5B041', '#DC7633','#A569BD',\n",
    "       '#000000', '#000080', '#2E86C1', '#AED6F1', '#196F3D']\n",
    "feature_names = ['GR', 'ILD_log10', 'DeltaPHI', 'PHIND', 'PE', 'NM_M', 'RELPOS']\n",
    "\n",
    "facies_labels = ['SS', 'CSiS', 'FSiS', 'SiSh', 'MS',\n",
    "                 'WS', 'D','PS', 'BS']\n",
    "#facies_color_map is a dictionary that maps facies labels\n",
    "#to their respective colors"
   ]
  },
  {
   "cell_type": "code",
   "execution_count": 31,
   "metadata": {
    "collapsed": true
   },
   "outputs": [],
   "source": [
    "training_data = pd.read_csv(facies_vector_path)"
   ]
  },
  {
   "cell_type": "code",
   "execution_count": 32,
   "metadata": {
    "collapsed": false
   },
   "outputs": [
    {
     "name": "stdout",
     "output_type": "stream",
     "text": [
      "(4095, 12)\n"
     ]
    },
    {
     "name": "stderr",
     "output_type": "stream",
     "text": [
      "C:\\Anaconda3\\lib\\site-packages\\numpy\\lib\\function_base.py:4116: RuntimeWarning: Invalid value encountered in percentile\n",
      "  interpolation=interpolation)\n"
     ]
    }
   ],
   "source": [
    "facies_color_map = {}\n",
    "for ind, label in enumerate(facies_labels):\n",
    "    facies_color_map[label] = facies_colors[ind]\n",
    "\n",
    "def label_facies(row, labels):\n",
    "    return labels[ row['Facies'] -1]\n",
    "    \n",
    "training_data.loc[:,'FaciesLabels'] = training_data.apply(lambda row: label_facies(row, facies_labels), axis=1)\n",
    "training_data.describe()\n",
    "\n",
    "# Fitering out some outliers\n",
    "j = []\n",
    "for i in range(len(training_data)):\n",
    "    if ((training_data['NM_M'].values[i]==2)and ((training_data['Facies'].values[i]==1)or(training_data['Facies'].values[i]==2)or(training_data['Facies'].values[i]==3))):\n",
    "        j.append(i)\n",
    "    elif((training_data['NM_M'].values[i]==1)and((training_data['Facies'].values[i]!=1)and(training_data['Facies'].values[i]!=2)and(training_data['Facies'].values[i]!=3))):\n",
    "        j.append(i)\n",
    "\n",
    "training_data_filtered = training_data.drop(training_data.index[j])\n",
    "print(np.shape(training_data_filtered))"
   ]
  },
  {
   "cell_type": "markdown",
   "metadata": {},
   "source": [
    "Add Missing PE by following AR4 Team"
   ]
  },
  {
   "cell_type": "code",
   "execution_count": 33,
   "metadata": {
    "collapsed": true
   },
   "outputs": [],
   "source": [
    "#X = training_data_filtered[feature_names].values\n",
    "# Testing without filtering\n",
    "X = training_data[feature_names].values\n",
    "\n",
    "reg = RandomForestRegressor(max_features='sqrt', n_estimators=50)\n",
    "# DataImpAll = training_data_filtered[feature_names].copy()\n",
    "DataImpAll = training_data[feature_names].copy()\n",
    "DataImp = DataImpAll.dropna(axis = 0, inplace=False)\n",
    "Ximp=DataImp.loc[:, DataImp.columns != 'PE']\n",
    "Yimp=DataImp.loc[:, 'PE']\n",
    "reg.fit(Ximp, Yimp)\n",
    "X[np.array(DataImpAll.PE.isnull()),4] = reg.predict(DataImpAll.loc[DataImpAll.PE.isnull(),:].drop('PE',axis=1,inplace=False))"
   ]
  },
  {
   "cell_type": "markdown",
   "metadata": {},
   "source": [
    "## 2. Feature Selection"
   ]
  },
  {
   "cell_type": "markdown",
   "metadata": {},
   "source": [
    "Log Plot of Facies"
   ]
  },
  {
   "cell_type": "markdown",
   "metadata": {},
   "source": [
    "### Filtered Data"
   ]
  },
  {
   "cell_type": "code",
   "execution_count": 34,
   "metadata": {
    "collapsed": false
   },
   "outputs": [
    {
     "data": {
      "text/plain": [
       "SS      268\n",
       "CSiS    940\n",
       "FSiS    780\n",
       "SiSh    271\n",
       "MS      296\n",
       "WS      582\n",
       "D       141\n",
       "PS      686\n",
       "BS      185\n",
       "Name: Facies, dtype: int64"
      ]
     },
     "execution_count": 34,
     "metadata": {},
     "output_type": "execute_result"
    },
    {
     "data": {
      "image/png": "[encoded data removed]",
      "text/plain": [
       "<matplotlib.figure.Figure at 0x131035f8>"
      ]
     },
     "metadata": {},
     "output_type": "display_data"
    }
   ],
   "source": [
    "#count the number of unique entries for each facies, sort them by\n",
    "#facies number (instead of by number of entries)\n",
    "#facies_counts_filtered = training_data_filtered['Facies'].value_counts().sort_index()\n",
    "facies_counts = training_data['Facies'].value_counts().sort_index()\n",
    "#use facies labels to index each count\n",
    "#facies_counts_filtered.index = facies_labels\n",
    "facies_counts.index = facies_labels\n",
    "\n",
    "#facies_counts_filtered.plot(kind='bar',color=facies_colors, \n",
    "#                   title='Distribution of Filtered Training Data by Facies')\n",
    "facies_counts.plot(kind='bar',color=facies_colors, \n",
    "                   title='Distribution of Filtered Training Data by Facies')\n",
    "#facies_counts_filtered\n",
    "#training_data_filtered.columns\n",
    "#facies_counts_filtered\n",
    "\n",
    "training_data.columns\n",
    "facies_counts"
   ]
  },
  {
   "cell_type": "markdown",
   "metadata": {},
   "source": [
    "### Filtered facies"
   ]
  },
  {
   "cell_type": "code",
   "execution_count": 35,
   "metadata": {
    "collapsed": false
   },
   "outputs": [],
   "source": [
    "#correct_facies_labels_filtered = training_data_filtered['Facies'].values\n",
    "#feature_vectors_filtered = training_data_filtered.drop(['Formation', 'Well Name', 'Depth','Facies','FaciesLabels'], axis=1)\n",
    "correct_facies_labels = training_data['Facies'].values\n",
    "feature_vectors = training_data.drop(['Formation', 'Well Name', 'Depth','Facies','FaciesLabels'], axis=1)"
   ]
  },
  {
   "cell_type": "code",
   "execution_count": 36,
   "metadata": {
    "collapsed": false
   },
   "outputs": [],
   "source": [
    "from sklearn import preprocessing\n",
    "#scaler_filtered = preprocessing.StandardScaler().fit(X)\n",
    "#scaled_features_filtered = scaler_filtered.transform(X)\n",
    "scaler = preprocessing.StandardScaler().fit(X)\n",
    "scaled_features = scaler.transform(X)"
   ]
  },
  {
   "cell_type": "code",
   "execution_count": 38,
   "metadata": {
    "collapsed": false
   },
   "outputs": [],
   "source": [
    "from sklearn.cross_validation import train_test_split\n",
    "#X_train_filtered, X_test_filtered, y_train_filtered, y_test_filtered = train_test_split(\n",
    "#        scaled_features_filtered, correct_facies_labels_filtered, test_size=0.3, random_state=16)\n",
    "\n",
    "X_train, X_test, y_train, y_test = train_test_split(\n",
    "        scaled_features, correct_facies_labels, test_size=0.3, random_state=16)"
   ]
  },
  {
   "cell_type": "code",
   "execution_count": 39,
   "metadata": {
    "collapsed": false
   },
   "outputs": [],
   "source": [
    "X_train_full, X_test_zero, y_train_full, y_test_full = train_test_split(\n",
    "        scaled_features, correct_facies_labels, test_size=0.0, random_state=42)"
   ]
  },
  {
   "cell_type": "markdown",
   "metadata": {},
   "source": [
    "## 3. Prediction Model"
   ]
  },
  {
   "cell_type": "markdown",
   "metadata": {},
   "source": [
    "Accuracy"
   ]
  },
  {
   "cell_type": "code",
   "execution_count": 40,
   "metadata": {
    "collapsed": true
   },
   "outputs": [],
   "source": [
    "def accuracy(conf):\n",
    "    total_correct = 0.\n",
    "    nb_classes = conf.shape[0]\n",
    "    for i in np.arange(0,nb_classes):\n",
    "        total_correct += conf[i][i]\n",
    "    acc = total_correct/sum(sum(conf))\n",
    "    return acc"
   ]
  },
  {
   "cell_type": "code",
   "execution_count": 41,
   "metadata": {
    "collapsed": false
   },
   "outputs": [],
   "source": [
    "adjacent_facies = np.array([[1], [0,2], [1], [4], [3,5], [4,6,7], [5,7], [5,6,8], [6,7]])\n",
    "\n",
    "def accuracy_adjacent(conf, adjacent_facies):\n",
    "    nb_classes = conf.shape[0]\n",
    "    total_correct = 0.\n",
    "    for i in np.arange(0,nb_classes):\n",
    "        total_correct += conf[i][i]\n",
    "        for j in adjacent_facies[i]:\n",
    "            total_correct += conf[i][j]\n",
    "    return total_correct / sum(sum(conf))"
   ]
  },
  {
   "cell_type": "markdown",
   "metadata": {},
   "source": [
    "SVM"
   ]
  },
  {
   "cell_type": "code",
   "execution_count": 42,
   "metadata": {
    "collapsed": false
   },
   "outputs": [],
   "source": [
    "from sklearn.model_selection import KFold, cross_val_score,LeavePGroupsOut, LeaveOneGroupOut, cross_val_predict\n",
    "from classification_utilities import display_cm, display_adj_cm"
   ]
  },
  {
   "cell_type": "code",
   "execution_count": 43,
   "metadata": {
    "collapsed": false
   },
   "outputs": [],
   "source": [
    "from sklearn import svm\n",
    "clf_filtered = svm.LinearSVC(random_state=23) "
   ]
  },
  {
   "cell_type": "code",
   "execution_count": 44,
   "metadata": {
    "collapsed": false
   },
   "outputs": [
    {
     "data": {
      "text/plain": [
       "LinearSVC(C=1.0, class_weight=None, dual=True, fit_intercept=True,\n",
       "     intercept_scaling=1, loss='squared_hinge', max_iter=1000,\n",
       "     multi_class='ovr', penalty='l2', random_state=23, tol=0.0001,\n",
       "     verbose=0)"
      ]
     },
     "execution_count": 44,
     "metadata": {},
     "output_type": "execute_result"
    }
   ],
   "source": [
    "#clf_filtered.fit(X_train_filtered, y_train_filtered)\n",
    "clf_filtered.fit(X_train, y_train)"
   ]
  },
  {
   "cell_type": "code",
   "execution_count": 45,
   "metadata": {
    "collapsed": false
   },
   "outputs": [],
   "source": [
    "#predicted_labels_filtered = clf_filtered.predict(X_test_filtered)\n",
    "predicted_labels = clf_filtered.predict(X_test)"
   ]
  },
  {
   "cell_type": "markdown",
   "metadata": {},
   "source": [
    "SVM for filtered data model"
   ]
  },
  {
   "cell_type": "markdown",
   "metadata": {},
   "source": [
    "## 4. Result Analysis"
   ]
  },
  {
   "cell_type": "code",
   "execution_count": 48,
   "metadata": {
    "collapsed": false
   },
   "outputs": [],
   "source": [
    "well_data = pd.read_csv('validation_data_nofacies.csv')\n",
    "well_data['Well Name'] = well_data['Well Name'].astype('category')\n",
    "well_features = well_data.drop(['Formation', 'Well Name', 'Depth'], axis=1)"
   ]
  },
  {
   "cell_type": "code",
   "execution_count": 49,
   "metadata": {
    "collapsed": false
   },
   "outputs": [],
   "source": [
    "X_unknown = scaler_filtered.transform(well_features)\n",
    "\n",
    "# Using all data and optimize parameter to train the data\n",
    "clf_filtered = svm.SVC(C=10, gamma=1)\n",
    "clf_filtered.fit(X_train_full, y_train_full)\n",
    "#clf_filtered.fit(X_train_filtered, y_train_filtered)\n",
    "y_unknown = clf_filtered.predict(X_unknown)\n",
    "well_data['Facies'] = y_unknown\n",
    "well_data\n",
    "well_data.to_csv('predict_result_svm_full_data.csv')"
   ]
  },
  {
   "cell_type": "markdown",
   "metadata": {},
   "source": [
    "## 5. Using Tensorflow"
   ]
  },
  {
   "cell_type": "markdown",
   "metadata": {},
   "source": [
    "Filtered Data Model"
   ]
  },
  {
   "cell_type": "code",
   "execution_count": 50,
   "metadata": {
    "collapsed": false
   },
   "outputs": [
    {
     "name": "stdout",
     "output_type": "stream",
     "text": [
      "WARNING:tensorflow:Using temporary folder as model directory: C:\\Users\\cjeong\\AppData\\Local\\Temp\\tmp1dw3uww1\n",
      "INFO:tensorflow:Using default config.\n",
      "INFO:tensorflow:Using config: {'_evaluation_master': '', '_master': '', '_cluster_spec': <tensorflow.python.training.server_lib.ClusterSpec object at 0x0000000013C74C50>, 'tf_random_seed': None, 'tf_config': gpu_options {\n",
      "  per_process_gpu_memory_fraction: 1\n",
      "}\n",
      ", '_num_ps_replicas': 0, 'keep_checkpoint_every_n_hours': 10000, 'keep_checkpoint_max': 5, 'save_checkpoints_secs': 600, '_environment': 'local', 'save_checkpoints_steps': None, 'save_summary_steps': 100, '_task_id': 0, '_is_chief': True, '_task_type': None}\n",
      "WARNING:tensorflow:From C:\\Anaconda3\\lib\\site-packages\\tensorflow\\contrib\\learn\\python\\learn\\estimators\\dnn.py:315 in fit.: calling BaseEstimator.fit (from tensorflow.contrib.learn.python.learn.estimators.estimator) with x is deprecated and will be removed after 2016-12-01.\n",
      "Instructions for updating:\n",
      "Estimator is decoupled from Scikit Learn interface by moving into\n",
      "separate class SKCompat. Arguments x, y and batch_size are only\n",
      "available in the SKCompat class, Estimator will only accept input_fn.\n",
      "Example conversion:\n",
      "  est = Estimator(...) -> est = SKCompat(Estimator(...))\n",
      "WARNING:tensorflow:From C:\\Anaconda3\\lib\\site-packages\\tensorflow\\contrib\\learn\\python\\learn\\estimators\\dnn.py:315 in fit.: calling BaseEstimator.fit (from tensorflow.contrib.learn.python.learn.estimators.estimator) with y is deprecated and will be removed after 2016-12-01.\n",
      "Instructions for updating:\n",
      "Estimator is decoupled from Scikit Learn interface by moving into\n",
      "separate class SKCompat. Arguments x, y and batch_size are only\n",
      "available in the SKCompat class, Estimator will only accept input_fn.\n",
      "Example conversion:\n",
      "  est = Estimator(...) -> est = SKCompat(Estimator(...))\n",
      "WARNING:tensorflow:From C:\\Anaconda3\\lib\\site-packages\\tensorflow\\contrib\\learn\\python\\learn\\estimators\\dnn.py:315 in fit.: calling BaseEstimator.fit (from tensorflow.contrib.learn.python.learn.estimators.estimator) with batch_size is deprecated and will be removed after 2016-12-01.\n",
      "Instructions for updating:\n",
      "Estimator is decoupled from Scikit Learn interface by moving into\n",
      "separate class SKCompat. Arguments x, y and batch_size are only\n",
      "available in the SKCompat class, Estimator will only accept input_fn.\n",
      "Example conversion:\n",
      "  est = Estimator(...) -> est = SKCompat(Estimator(...))\n",
      "WARNING:tensorflow:float64 is not supported by many models, consider casting to float32.\n",
      "INFO:tensorflow:Summary name dnn/hiddenlayer_0:fraction_of_zero_values is illegal; using dnn/hiddenlayer_0_fraction_of_zero_values instead.\n",
      "INFO:tensorflow:Summary name dnn/hiddenlayer_0:activation is illegal; using dnn/hiddenlayer_0_activation instead.\n",
      "INFO:tensorflow:Summary name dnn/hiddenlayer_1:fraction_of_zero_values is illegal; using dnn/hiddenlayer_1_fraction_of_zero_values instead.\n",
      "INFO:tensorflow:Summary name dnn/hiddenlayer_1:activation is illegal; using dnn/hiddenlayer_1_activation instead.\n",
      "INFO:tensorflow:Summary name dnn/hiddenlayer_2:fraction_of_zero_values is illegal; using dnn/hiddenlayer_2_fraction_of_zero_values instead.\n",
      "INFO:tensorflow:Summary name dnn/hiddenlayer_2:activation is illegal; using dnn/hiddenlayer_2_activation instead.\n",
      "INFO:tensorflow:Summary name dnn/logits:fraction_of_zero_values is illegal; using dnn/logits_fraction_of_zero_values instead.\n",
      "INFO:tensorflow:Summary name dnn/logits:activation is illegal; using dnn/logits_activation instead.\n",
      "INFO:tensorflow:Create CheckpointSaverHook.\n",
      "INFO:tensorflow:loss = 2.33411, step = 1\n",
      "INFO:tensorflow:Saving checkpoints for 1 into C:\\Users\\cjeong\\AppData\\Local\\Temp\\tmp1dw3uww1\\model.ckpt.\n",
      "WARNING:tensorflow:*******************************************************\n",
      "WARNING:tensorflow:TensorFlow's V1 checkpoint format has been deprecated.\n",
      "WARNING:tensorflow:Consider switching to the more efficient V2 format:\n",
      "WARNING:tensorflow:   `tf.train.Saver(write_version=tf.train.SaverDef.V2)`\n",
      "WARNING:tensorflow:now on by default.\n",
      "WARNING:tensorflow:*******************************************************\n",
      "INFO:tensorflow:loss = 1.437, step = 101\n",
      "INFO:tensorflow:global_step/sec: 43.6466\n",
      "INFO:tensorflow:loss = 1.19297, step = 201\n",
      "INFO:tensorflow:global_step/sec: 61.5349\n",
      "INFO:tensorflow:loss = 1.09089, step = 301\n",
      "INFO:tensorflow:global_step/sec: 60.8238\n",
      "INFO:tensorflow:loss = 1.04507, step = 401\n",
      "INFO:tensorflow:global_step/sec: 61.4593\n",
      "INFO:tensorflow:loss = 1.0207, step = 501\n",
      "INFO:tensorflow:global_step/sec: 59.379\n",
      "INFO:tensorflow:loss = 1.00274, step = 601\n",
      "INFO:tensorflow:global_step/sec: 60.2013\n",
      "INFO:tensorflow:loss = 0.991238, step = 701\n",
      "INFO:tensorflow:global_step/sec: 61.4593\n",
      "INFO:tensorflow:loss = 0.982966, step = 801\n",
      "INFO:tensorflow:global_step/sec: 60.4926\n",
      "INFO:tensorflow:loss = 0.977137, step = 901\n",
      "INFO:tensorflow:global_step/sec: 61.7249\n",
      "INFO:tensorflow:loss = 0.972317, step = 1001\n",
      "INFO:tensorflow:global_step/sec: 59.1682\n",
      "INFO:tensorflow:loss = 0.96791, step = 1101\n",
      "INFO:tensorflow:global_step/sec: 58.6133\n",
      "INFO:tensorflow:loss = 0.963676, step = 1201\n",
      "INFO:tensorflow:global_step/sec: 60.2738\n",
      "INFO:tensorflow:loss = 0.959058, step = 1301\n",
      "INFO:tensorflow:global_step/sec: 60.383\n",
      "INFO:tensorflow:loss = 0.954611, step = 1401\n",
      "INFO:tensorflow:global_step/sec: 60.5659\n",
      "INFO:tensorflow:loss = 0.95038, step = 1501\n",
      "INFO:tensorflow:global_step/sec: 60.0566\n",
      "INFO:tensorflow:loss = 0.946211, step = 1601\n",
      "INFO:tensorflow:global_step/sec: 59.3438\n",
      "INFO:tensorflow:loss = 0.942419, step = 1701\n",
      "INFO:tensorflow:global_step/sec: 59.4143\n",
      "INFO:tensorflow:loss = 0.939052, step = 1801\n",
      "INFO:tensorflow:global_step/sec: 58.4079\n",
      "INFO:tensorflow:loss = 0.935582, step = 1901\n",
      "INFO:tensorflow:global_step/sec: 58.9589\n",
      "INFO:tensorflow:loss = 0.932601, step = 2001\n",
      "INFO:tensorflow:global_step/sec: 58.6477\n",
      "INFO:tensorflow:loss = 0.929736, step = 2101\n",
      "INFO:tensorflow:global_step/sec: 61.4593\n",
      "INFO:tensorflow:loss = 0.927038, step = 2201\n",
      "INFO:tensorflow:global_step/sec: 61.2335\n",
      "INFO:tensorflow:loss = 0.923959, step = 2301\n",
      "INFO:tensorflow:global_step/sec: 61.0839\n",
      "INFO:tensorflow:loss = 0.921251, step = 2401\n",
      "INFO:tensorflow:global_step/sec: 60.1289\n",
      "INFO:tensorflow:loss = 0.918286, step = 2501\n",
      "INFO:tensorflow:global_step/sec: 61.3086\n",
      "INFO:tensorflow:loss = 0.915599, step = 2601\n",
      "INFO:tensorflow:global_step/sec: 61.271\n",
      "INFO:tensorflow:loss = 0.912805, step = 2701\n",
      "INFO:tensorflow:global_step/sec: 61.0093\n",
      "INFO:tensorflow:loss = 0.910149, step = 2801\n",
      "INFO:tensorflow:global_step/sec: 61.1212\n",
      "INFO:tensorflow:loss = 0.906426, step = 2901\n",
      "INFO:tensorflow:global_step/sec: 52.7674\n",
      "INFO:tensorflow:loss = 0.903771, step = 3001\n",
      "INFO:tensorflow:global_step/sec: 56.4939\n",
      "INFO:tensorflow:loss = 0.901143, step = 3101\n",
      "INFO:tensorflow:global_step/sec: 61.1586\n",
      "INFO:tensorflow:loss = 0.898672, step = 3201\n",
      "INFO:tensorflow:global_step/sec: 59.4496\n",
      "INFO:tensorflow:loss = 0.895967, step = 3301\n",
      "INFO:tensorflow:global_step/sec: 61.196\n",
      "INFO:tensorflow:loss = 0.893695, step = 3401\n",
      "INFO:tensorflow:global_step/sec: 58.5104\n",
      "INFO:tensorflow:loss = 0.891894, step = 3501\n",
      "INFO:tensorflow:global_step/sec: 57.6004\n",
      "INFO:tensorflow:loss = 0.889658, step = 3601\n",
      "INFO:tensorflow:global_step/sec: 57.5672\n",
      "INFO:tensorflow:loss = 0.887669, step = 3701\n",
      "INFO:tensorflow:global_step/sec: 56.4302\n",
      "INFO:tensorflow:loss = 0.886017, step = 3801\n",
      "INFO:tensorflow:global_step/sec: 59.2383\n",
      "INFO:tensorflow:loss = 0.883678, step = 3901\n",
      "INFO:tensorflow:global_step/sec: 57.6668\n",
      "INFO:tensorflow:loss = 0.881762, step = 4001\n",
      "INFO:tensorflow:global_step/sec: 60.713\n",
      "INFO:tensorflow:loss = 0.880063, step = 4101\n",
      "INFO:tensorflow:global_step/sec: 57.5672\n",
      "INFO:tensorflow:loss = 0.878444, step = 4201\n",
      "INFO:tensorflow:global_step/sec: 61.7249\n",
      "INFO:tensorflow:loss = 0.876761, step = 4301\n",
      "INFO:tensorflow:global_step/sec: 61.4593\n",
      "INFO:tensorflow:loss = 0.87526, step = 4401\n",
      "INFO:tensorflow:global_step/sec: 60.8608\n",
      "INFO:tensorflow:loss = 0.873608, step = 4501\n",
      "INFO:tensorflow:global_step/sec: 61.1586\n",
      "INFO:tensorflow:loss = 0.872392, step = 4601\n",
      "INFO:tensorflow:global_step/sec: 62.0697\n",
      "INFO:tensorflow:loss = 0.870554, step = 4701\n",
      "INFO:tensorflow:global_step/sec: 58.1362\n",
      "INFO:tensorflow:loss = 0.868547, step = 4801\n",
      "INFO:tensorflow:global_step/sec: 59.5204\n",
      "INFO:tensorflow:loss = 0.86671, step = 4901\n",
      "INFO:tensorflow:global_step/sec: 58.5104\n",
      "INFO:tensorflow:Saving checkpoints for 5000 into C:\\Users\\cjeong\\AppData\\Local\\Temp\\tmp1dw3uww1\\model.ckpt.\n",
      "WARNING:tensorflow:*******************************************************\n",
      "WARNING:tensorflow:TensorFlow's V1 checkpoint format has been deprecated.\n",
      "WARNING:tensorflow:Consider switching to the more efficient V2 format:\n",
      "WARNING:tensorflow:   `tf.train.Saver(write_version=tf.train.SaverDef.V2)`\n",
      "WARNING:tensorflow:now on by default.\n",
      "WARNING:tensorflow:*******************************************************\n",
      "INFO:tensorflow:Loss for final step: 0.864909.\n",
      "WARNING:tensorflow:From C:\\Anaconda3\\lib\\site-packages\\tensorflow\\contrib\\learn\\python\\learn\\estimators\\dnn.py:348 in predict.: calling BaseEstimator.predict (from tensorflow.contrib.learn.python.learn.estimators.estimator) with x is deprecated and will be removed after 2016-12-01.\n",
      "Instructions for updating:\n",
      "Estimator is decoupled from Scikit Learn interface by moving into\n",
      "separate class SKCompat. Arguments x, y and batch_size are only\n",
      "available in the SKCompat class, Estimator will only accept input_fn.\n",
      "Example conversion:\n",
      "  est = Estimator(...) -> est = SKCompat(Estimator(...))\n",
      "WARNING:tensorflow:From C:\\Anaconda3\\lib\\site-packages\\tensorflow\\contrib\\learn\\python\\learn\\estimators\\dnn.py:348 in predict.: calling BaseEstimator.predict (from tensorflow.contrib.learn.python.learn.estimators.estimator) with batch_size is deprecated and will be removed after 2016-12-01.\n",
      "Instructions for updating:\n",
      "Estimator is decoupled from Scikit Learn interface by moving into\n",
      "separate class SKCompat. Arguments x, y and batch_size are only\n",
      "available in the SKCompat class, Estimator will only accept input_fn.\n",
      "Example conversion:\n",
      "  est = Estimator(...) -> est = SKCompat(Estimator(...))\n",
      "WARNING:tensorflow:From C:\\Anaconda3\\lib\\site-packages\\tensorflow\\contrib\\learn\\python\\learn\\estimators\\dnn.py:348 in predict.: calling BaseEstimator.predict (from tensorflow.contrib.learn.python.learn.estimators.estimator) with as_iterable is deprecated and will be removed after 2016-12-01.\n",
      "Instructions for updating:\n",
      "Estimator is decoupled from Scikit Learn interface by moving into\n",
      "separate class SKCompat. Arguments x, y and batch_size are only\n",
      "available in the SKCompat class, Estimator will only accept input_fn.\n",
      "Example conversion:\n",
      "  est = Estimator(...) -> est = SKCompat(Estimator(...))\n",
      "WARNING:tensorflow:float64 is not supported by many models, consider casting to float32.\n",
      "INFO:tensorflow:Summary name dnn/hiddenlayer_0:fraction_of_zero_values is illegal; using dnn/hiddenlayer_0_fraction_of_zero_values instead.\n",
      "INFO:tensorflow:Summary name dnn/hiddenlayer_0:activation is illegal; using dnn/hiddenlayer_0_activation instead.\n",
      "INFO:tensorflow:Summary name dnn/hiddenlayer_1:fraction_of_zero_values is illegal; using dnn/hiddenlayer_1_fraction_of_zero_values instead.\n",
      "INFO:tensorflow:Summary name dnn/hiddenlayer_1:activation is illegal; using dnn/hiddenlayer_1_activation instead.\n",
      "INFO:tensorflow:Summary name dnn/hiddenlayer_2:fraction_of_zero_values is illegal; using dnn/hiddenlayer_2_fraction_of_zero_values instead.\n",
      "INFO:tensorflow:Summary name dnn/hiddenlayer_2:activation is illegal; using dnn/hiddenlayer_2_activation instead.\n",
      "INFO:tensorflow:Summary name dnn/logits:fraction_of_zero_values is illegal; using dnn/logits_fraction_of_zero_values instead.\n",
      "INFO:tensorflow:Summary name dnn/logits:activation is illegal; using dnn/logits_activation instead.\n",
      "INFO:tensorflow:Loading model from checkpoint: C:\\Users\\cjeong\\AppData\\Local\\Temp\\tmp1dw3uww1\\model.ckpt-5000-?????-of-00001.\n",
      "WARNING:tensorflow:From C:\\Anaconda3\\lib\\site-packages\\tensorflow\\contrib\\learn\\python\\learn\\estimators\\dnn.py:323 in evaluate.: calling BaseEstimator.evaluate (from tensorflow.contrib.learn.python.learn.estimators.estimator) with x is deprecated and will be removed after 2016-12-01.\n",
      "Instructions for updating:\n",
      "Estimator is decoupled from Scikit Learn interface by moving into\n",
      "separate class SKCompat. Arguments x, y and batch_size are only\n",
      "available in the SKCompat class, Estimator will only accept input_fn.\n",
      "Example conversion:\n",
      "  est = Estimator(...) -> est = SKCompat(Estimator(...))\n",
      "WARNING:tensorflow:From C:\\Anaconda3\\lib\\site-packages\\tensorflow\\contrib\\learn\\python\\learn\\estimators\\dnn.py:323 in evaluate.: calling BaseEstimator.evaluate (from tensorflow.contrib.learn.python.learn.estimators.estimator) with y is deprecated and will be removed after 2016-12-01.\n",
      "Instructions for updating:\n",
      "Estimator is decoupled from Scikit Learn interface by moving into\n",
      "separate class SKCompat. Arguments x, y and batch_size are only\n",
      "available in the SKCompat class, Estimator will only accept input_fn.\n",
      "Example conversion:\n",
      "  est = Estimator(...) -> est = SKCompat(Estimator(...))\n",
      "WARNING:tensorflow:From C:\\Anaconda3\\lib\\site-packages\\tensorflow\\contrib\\learn\\python\\learn\\estimators\\dnn.py:323 in evaluate.: calling BaseEstimator.evaluate (from tensorflow.contrib.learn.python.learn.estimators.estimator) with batch_size is deprecated and will be removed after 2016-12-01.\n",
      "Instructions for updating:\n",
      "Estimator is decoupled from Scikit Learn interface by moving into\n",
      "separate class SKCompat. Arguments x, y and batch_size are only\n",
      "available in the SKCompat class, Estimator will only accept input_fn.\n",
      "Example conversion:\n",
      "  est = Estimator(...) -> est = SKCompat(Estimator(...))\n",
      "WARNING:tensorflow:float64 is not supported by many models, consider casting to float32.\n",
      "INFO:tensorflow:Summary name dnn/hiddenlayer_0:fraction_of_zero_values is illegal; using dnn/hiddenlayer_0_fraction_of_zero_values instead.\n",
      "INFO:tensorflow:Summary name dnn/hiddenlayer_0:activation is illegal; using dnn/hiddenlayer_0_activation instead.\n",
      "INFO:tensorflow:Summary name dnn/hiddenlayer_1:fraction_of_zero_values is illegal; using dnn/hiddenlayer_1_fraction_of_zero_values instead.\n",
      "INFO:tensorflow:Summary name dnn/hiddenlayer_1:activation is illegal; using dnn/hiddenlayer_1_activation instead.\n",
      "INFO:tensorflow:Summary name dnn/hiddenlayer_2:fraction_of_zero_values is illegal; using dnn/hiddenlayer_2_fraction_of_zero_values instead.\n",
      "INFO:tensorflow:Summary name dnn/hiddenlayer_2:activation is illegal; using dnn/hiddenlayer_2_activation instead.\n",
      "INFO:tensorflow:Summary name dnn/logits:fraction_of_zero_values is illegal; using dnn/logits_fraction_of_zero_values instead.\n",
      "INFO:tensorflow:Summary name dnn/logits:activation is illegal; using dnn/logits_activation instead.\n",
      "INFO:tensorflow:Restored model from C:\\Users\\cjeong\\AppData\\Local\\Temp\\tmp1dw3uww1\n",
      "INFO:tensorflow:Eval steps [0,inf) for training step 5000.\n",
      "INFO:tensorflow:Input iterator is exhausted.\n",
      "INFO:tensorflow:Saving evaluation summary for step 5000: accuracy = 0.595984, loss = 0.974486\n",
      "Accuracy: 0.595984\n",
      "Optimized facies classification accuracy = 0.60\n",
      "Optimized adjacent facies classification accuracy = 0.92\n",
      "     Pred    SS  CSiS  FSiS  SiSh    MS    WS     D    PS    BS Total\n",
      "     True\n",
      "       SS    48    40     4                                        92\n",
      "     CSiS    16   211    64                 1     1               293\n",
      "     FSiS     3    72   145     1           2           3         226\n",
      "     SiSh     1           1    53          21                      76\n",
      "       MS           2     2    20    10    33     1    15     1    84\n",
      "       WS                 1    24    22    95     3    45     2   192\n",
      "        D                       1           2    26    12          41\n",
      "       PS           1     2     2     6    43     9   123     8   194\n",
      "       BS                                   3     1    12    31    47\n",
      "\n",
      "Precision  0.71  0.65  0.66  0.52  0.26  0.47  0.63  0.59  0.74  0.59\n",
      "   Recall  0.52  0.72  0.64  0.70  0.12  0.49  0.63  0.63  0.66  0.60\n",
      "       F1  0.60  0.68  0.65  0.60  0.16  0.48  0.63  0.61  0.70  0.59\n"
     ]
    }
   ],
   "source": [
    "from __future__ import absolute_import\n",
    "from __future__ import division\n",
    "from __future__ import print_function\n",
    "import tensorflow as tf\n",
    "\n",
    "# Specify that all features have real-value data\n",
    "feature_columns_filtered = [tf.contrib.layers.real_valued_column(\"\", dimension=7)]\n",
    "\n",
    "# Build 3 layer DNN with 7, 17, 10 units respectively.\n",
    "classifier_filtered = tf.contrib.learn.DNNClassifier(feature_columns=feature_columns_filtered,\n",
    "                                            hidden_units=[7, 17, 10],\n",
    "                                            n_classes=10)\n",
    "\n",
    "# Fit model.\n",
    "#classifier_filtered.fit(x=X_train_filtered,y=y_train_filtered,steps=5000)\n",
    "#y_predict_filtered = []\n",
    "#predictions = classifier_filtered.predict(x=X_test_filtered)\n",
    "\n",
    "classifier_filtered.fit(x=X_train,y=y_train,steps=5000)\n",
    "y_predict = []\n",
    "predictions = classifier_filtered.predict(x=X_test)\n",
    "\n",
    "\n",
    "for i, p in enumerate(predictions):\n",
    "    y_predict.append(p)\n",
    "    #print(\"Index %s: Prediction - %s, Real - %s\" % (i + 1, p, y_test_filtered[i]))\n",
    "\n",
    "# Evaluate accuracy.\n",
    "#accuracy_score_filtered = classifier_filtered.evaluate(x=X_test_filtered, y=y_test_filtered)[\"accuracy\"]\n",
    "#print('Accuracy: {0:f}'.format(accuracy_score_filtered))\n",
    "accuracy_score = classifier_filtered.evaluate(x=X_test, y=y_test)[\"accuracy\"]\n",
    "print('Accuracy: {0:f}'.format(accuracy_score))\n",
    "\n",
    "cv_conf_dnn = confusion_matrix(y_test, y_predict)\n",
    "\n",
    "print('Optimized facies classification accuracy = %.2f' % accuracy(cv_conf_dnn))\n",
    "print('Optimized adjacent facies classification accuracy = %.2f' % accuracy_adjacent(cv_conf_dnn, adjacent_facies))\n",
    "display_cm(cv_conf_dnn, facies_labels,display_metrics=True, hide_zeros=True)"
   ]
  },
  {
   "cell_type": "markdown",
   "metadata": {},
   "source": [
    "Result from DNN"
   ]
  },
  {
   "cell_type": "code",
   "execution_count": 53,
   "metadata": {
    "collapsed": false
   },
   "outputs": [
    {
     "name": "stdout",
     "output_type": "stream",
     "text": [
      "WARNING:tensorflow:From C:\\Anaconda3\\lib\\site-packages\\tensorflow\\contrib\\learn\\python\\learn\\estimators\\dnn.py:315 in fit.: calling BaseEstimator.fit (from tensorflow.contrib.learn.python.learn.estimators.estimator) with x is deprecated and will be removed after 2016-12-01.\n",
      "Instructions for updating:\n",
      "Estimator is decoupled from Scikit Learn interface by moving into\n",
      "separate class SKCompat. Arguments x, y and batch_size are only\n",
      "available in the SKCompat class, Estimator will only accept input_fn.\n",
      "Example conversion:\n",
      "  est = Estimator(...) -> est = SKCompat(Estimator(...))\n",
      "WARNING:tensorflow:From C:\\Anaconda3\\lib\\site-packages\\tensorflow\\contrib\\learn\\python\\learn\\estimators\\dnn.py:315 in fit.: calling BaseEstimator.fit (from tensorflow.contrib.learn.python.learn.estimators.estimator) with y is deprecated and will be removed after 2016-12-01.\n",
      "Instructions for updating:\n",
      "Estimator is decoupled from Scikit Learn interface by moving into\n",
      "separate class SKCompat. Arguments x, y and batch_size are only\n",
      "available in the SKCompat class, Estimator will only accept input_fn.\n",
      "Example conversion:\n",
      "  est = Estimator(...) -> est = SKCompat(Estimator(...))\n",
      "WARNING:tensorflow:From C:\\Anaconda3\\lib\\site-packages\\tensorflow\\contrib\\learn\\python\\learn\\estimators\\dnn.py:315 in fit.: calling BaseEstimator.fit (from tensorflow.contrib.learn.python.learn.estimators.estimator) with batch_size is deprecated and will be removed after 2016-12-01.\n",
      "Instructions for updating:\n",
      "Estimator is decoupled from Scikit Learn interface by moving into\n",
      "separate class SKCompat. Arguments x, y and batch_size are only\n",
      "available in the SKCompat class, Estimator will only accept input_fn.\n",
      "Example conversion:\n",
      "  est = Estimator(...) -> est = SKCompat(Estimator(...))\n",
      "WARNING:tensorflow:float64 is not supported by many models, consider casting to float32.\n",
      "INFO:tensorflow:Summary name dnn/hiddenlayer_0:fraction_of_zero_values is illegal; using dnn/hiddenlayer_0_fraction_of_zero_values instead.\n",
      "INFO:tensorflow:Summary name dnn/hiddenlayer_0:activation is illegal; using dnn/hiddenlayer_0_activation instead.\n",
      "INFO:tensorflow:Summary name dnn/hiddenlayer_1:fraction_of_zero_values is illegal; using dnn/hiddenlayer_1_fraction_of_zero_values instead.\n",
      "INFO:tensorflow:Summary name dnn/hiddenlayer_1:activation is illegal; using dnn/hiddenlayer_1_activation instead.\n",
      "INFO:tensorflow:Summary name dnn/hiddenlayer_2:fraction_of_zero_values is illegal; using dnn/hiddenlayer_2_fraction_of_zero_values instead.\n",
      "INFO:tensorflow:Summary name dnn/hiddenlayer_2:activation is illegal; using dnn/hiddenlayer_2_activation instead.\n",
      "INFO:tensorflow:Summary name dnn/logits:fraction_of_zero_values is illegal; using dnn/logits_fraction_of_zero_values instead.\n",
      "INFO:tensorflow:Summary name dnn/logits:activation is illegal; using dnn/logits_activation instead.\n",
      "INFO:tensorflow:Create CheckpointSaverHook.\n",
      "INFO:tensorflow:loss = 0.801393, step = 25001\n",
      "INFO:tensorflow:Saving checkpoints for 25001 into C:\\Users\\cjeong\\AppData\\Local\\Temp\\tmp1dw3uww1\\model.ckpt.\n",
      "WARNING:tensorflow:*******************************************************\n",
      "WARNING:tensorflow:TensorFlow's V1 checkpoint format has been deprecated.\n",
      "WARNING:tensorflow:Consider switching to the more efficient V2 format:\n",
      "WARNING:tensorflow:   `tf.train.Saver(write_version=tf.train.SaverDef.V2)`\n",
      "WARNING:tensorflow:now on by default.\n",
      "WARNING:tensorflow:*******************************************************\n",
      "INFO:tensorflow:loss = 0.801296, step = 25101\n",
      "INFO:tensorflow:global_step/sec: 86.202\n",
      "INFO:tensorflow:loss = 0.80132, step = 25201\n",
      "INFO:tensorflow:global_step/sec: 112.988\n",
      "INFO:tensorflow:loss = 0.801179, step = 25301\n",
      "INFO:tensorflow:global_step/sec: 110.981\n",
      "INFO:tensorflow:loss = 0.801103, step = 25401\n",
      "INFO:tensorflow:global_step/sec: 114.541\n",
      "INFO:tensorflow:loss = 0.801085, step = 25501\n",
      "INFO:tensorflow:global_step/sec: 114.672\n",
      "INFO:tensorflow:loss = 0.80099, step = 25601\n",
      "INFO:tensorflow:global_step/sec: 110.613\n",
      "INFO:tensorflow:loss = 0.800877, step = 25701\n",
      "INFO:tensorflow:global_step/sec: 110.736\n",
      "INFO:tensorflow:loss = 0.80094, step = 25801\n",
      "INFO:tensorflow:global_step/sec: 109.403\n",
      "INFO:tensorflow:loss = 0.800796, step = 25901\n",
      "INFO:tensorflow:global_step/sec: 113.63\n",
      "INFO:tensorflow:loss = 0.800661, step = 26001\n",
      "INFO:tensorflow:global_step/sec: 109.643\n",
      "INFO:tensorflow:loss = 0.800603, step = 26101\n",
      "INFO:tensorflow:global_step/sec: 114.019\n",
      "INFO:tensorflow:loss = 0.800587, step = 26201\n",
      "INFO:tensorflow:global_step/sec: 110.613\n",
      "INFO:tensorflow:loss = 0.80045, step = 26301\n",
      "INFO:tensorflow:global_step/sec: 109.763\n",
      "INFO:tensorflow:loss = 0.800405, step = 26401\n",
      "INFO:tensorflow:global_step/sec: 111.85\n",
      "INFO:tensorflow:loss = 0.800526, step = 26501\n",
      "INFO:tensorflow:global_step/sec: 114.019\n",
      "INFO:tensorflow:loss = 0.800401, step = 26601\n",
      "INFO:tensorflow:global_step/sec: 109.884\n",
      "INFO:tensorflow:loss = 0.800347, step = 26701\n",
      "INFO:tensorflow:global_step/sec: 111.85\n",
      "INFO:tensorflow:loss = 0.800231, step = 26801\n",
      "INFO:tensorflow:global_step/sec: 110.369\n",
      "INFO:tensorflow:loss = 0.800058, step = 26901\n",
      "INFO:tensorflow:global_step/sec: 113.244\n",
      "INFO:tensorflow:loss = 0.800157, step = 27001\n",
      "INFO:tensorflow:global_step/sec: 114.41\n",
      "INFO:tensorflow:loss = 0.799957, step = 27101\n",
      "INFO:tensorflow:global_step/sec: 112.988\n",
      "INFO:tensorflow:loss = 0.799961, step = 27201\n",
      "INFO:tensorflow:global_step/sec: 112.353\n",
      "INFO:tensorflow:loss = 0.799975, step = 27301\n",
      "INFO:tensorflow:global_step/sec: 111.725\n",
      "INFO:tensorflow:loss = 0.799915, step = 27401\n",
      "INFO:tensorflow:global_step/sec: 111.85\n",
      "INFO:tensorflow:loss = 0.799704, step = 27501\n",
      "INFO:tensorflow:global_step/sec: 111.976\n",
      "INFO:tensorflow:loss = 0.799703, step = 27601\n",
      "INFO:tensorflow:global_step/sec: 110.126\n",
      "INFO:tensorflow:loss = 0.799638, step = 27701\n",
      "INFO:tensorflow:global_step/sec: 106.038\n",
      "INFO:tensorflow:loss = 0.799573, step = 27801\n",
      "INFO:tensorflow:global_step/sec: 110.858\n",
      "INFO:tensorflow:loss = 0.799511, step = 27901\n",
      "INFO:tensorflow:global_step/sec: 108.102\n",
      "INFO:tensorflow:loss = 0.799461, step = 28001\n",
      "INFO:tensorflow:global_step/sec: 111.228\n",
      "INFO:tensorflow:loss = 0.79944, step = 28101\n",
      "INFO:tensorflow:global_step/sec: 112.101\n",
      "INFO:tensorflow:loss = 0.799365, step = 28201\n",
      "INFO:tensorflow:global_step/sec: 113.116\n",
      "INFO:tensorflow:loss = 0.799323, step = 28301\n",
      "INFO:tensorflow:global_step/sec: 113.244\n",
      "INFO:tensorflow:loss = 0.799293, step = 28401\n",
      "INFO:tensorflow:global_step/sec: 112.606\n",
      "INFO:tensorflow:loss = 0.799201, step = 28501\n",
      "INFO:tensorflow:global_step/sec: 109.164\n",
      "INFO:tensorflow:loss = 0.799338, step = 28601\n",
      "INFO:tensorflow:global_step/sec: 113.889\n",
      "INFO:tensorflow:loss = 0.799193, step = 28701\n",
      "INFO:tensorflow:global_step/sec: 113.501\n",
      "INFO:tensorflow:loss = 0.79914, step = 28801\n",
      "INFO:tensorflow:global_step/sec: 111.85\n",
      "INFO:tensorflow:loss = 0.799127, step = 28901\n",
      "INFO:tensorflow:global_step/sec: 113.244\n",
      "INFO:tensorflow:loss = 0.799108, step = 29001\n",
      "INFO:tensorflow:global_step/sec: 113.244\n",
      "INFO:tensorflow:loss = 0.798931, step = 29101\n",
      "INFO:tensorflow:global_step/sec: 110.369\n",
      "INFO:tensorflow:loss = 0.798836, step = 29201\n",
      "INFO:tensorflow:global_step/sec: 114.672\n",
      "INFO:tensorflow:loss = 0.798819, step = 29301\n",
      "INFO:tensorflow:global_step/sec: 113.63\n",
      "INFO:tensorflow:loss = 0.798807, step = 29401\n",
      "INFO:tensorflow:global_step/sec: 110.126\n",
      "INFO:tensorflow:loss = 0.798798, step = 29501\n",
      "INFO:tensorflow:global_step/sec: 114.936\n",
      "INFO:tensorflow:loss = 0.798754, step = 29601\n",
      "INFO:tensorflow:global_step/sec: 112.227\n",
      "INFO:tensorflow:loss = 0.798729, step = 29701\n",
      "INFO:tensorflow:global_step/sec: 111.601\n",
      "INFO:tensorflow:loss = 0.798665, step = 29801\n",
      "INFO:tensorflow:global_step/sec: 111.352\n",
      "INFO:tensorflow:loss = 0.798577, step = 29901\n",
      "INFO:tensorflow:global_step/sec: 115.6\n",
      "INFO:tensorflow:loss = 0.798527, step = 30001\n",
      "INFO:tensorflow:global_step/sec: 114.41\n",
      "INFO:tensorflow:loss = 0.798449, step = 30101\n",
      "INFO:tensorflow:global_step/sec: 106.604\n",
      "INFO:tensorflow:loss = 0.798379, step = 30201\n",
      "INFO:tensorflow:global_step/sec: 103.087\n",
      "INFO:tensorflow:loss = 0.798362, step = 30301\n",
      "INFO:tensorflow:global_step/sec: 110.858\n",
      "INFO:tensorflow:loss = 0.798389, step = 30401\n",
      "INFO:tensorflow:global_step/sec: 112.479\n",
      "INFO:tensorflow:loss = 0.798319, step = 30501\n",
      "INFO:tensorflow:global_step/sec: 113.759\n",
      "INFO:tensorflow:loss = 0.798214, step = 30601\n",
      "INFO:tensorflow:global_step/sec: 112.479\n",
      "INFO:tensorflow:loss = 0.798352, step = 30701\n",
      "INFO:tensorflow:global_step/sec: 113.372\n",
      "INFO:tensorflow:loss = 0.798213, step = 30801\n",
      "INFO:tensorflow:global_step/sec: 112.48\n",
      "INFO:tensorflow:loss = 0.798185, step = 30901\n",
      "INFO:tensorflow:global_step/sec: 113.63\n",
      "INFO:tensorflow:loss = 0.798037, step = 31001\n",
      "INFO:tensorflow:global_step/sec: 110.736\n",
      "INFO:tensorflow:loss = 0.798049, step = 31101\n",
      "INFO:tensorflow:global_step/sec: 112.86\n",
      "INFO:tensorflow:loss = 0.798103, step = 31201\n",
      "INFO:tensorflow:global_step/sec: 115.467\n",
      "INFO:tensorflow:loss = 0.798003, step = 31301\n",
      "INFO:tensorflow:global_step/sec: 115.6\n",
      "INFO:tensorflow:loss = 0.797864, step = 31401\n",
      "INFO:tensorflow:global_step/sec: 110.369\n",
      "INFO:tensorflow:loss = 0.797866, step = 31501\n",
      "INFO:tensorflow:global_step/sec: 111.85\n",
      "INFO:tensorflow:loss = 0.797736, step = 31601\n",
      "INFO:tensorflow:global_step/sec: 113.501\n",
      "INFO:tensorflow:loss = 0.797709, step = 31701\n",
      "INFO:tensorflow:global_step/sec: 111.476\n",
      "INFO:tensorflow:loss = 0.797667, step = 31801\n",
      "INFO:tensorflow:global_step/sec: 112.606\n",
      "INFO:tensorflow:loss = 0.797669, step = 31901\n",
      "INFO:tensorflow:global_step/sec: 105.702\n",
      "INFO:tensorflow:loss = 0.797617, step = 32001\n",
      "INFO:tensorflow:global_step/sec: 107.636\n",
      "INFO:tensorflow:loss = 0.7976, step = 32101\n",
      "INFO:tensorflow:global_step/sec: 107.29\n",
      "INFO:tensorflow:loss = 0.797556, step = 32201\n",
      "INFO:tensorflow:global_step/sec: 107.636\n",
      "INFO:tensorflow:loss = 0.797571, step = 32301\n",
      "INFO:tensorflow:global_step/sec: 107.636\n",
      "INFO:tensorflow:loss = 0.797439, step = 32401\n",
      "INFO:tensorflow:global_step/sec: 115.467\n",
      "INFO:tensorflow:loss = 0.797492, step = 32501\n",
      "INFO:tensorflow:global_step/sec: 112.48\n",
      "INFO:tensorflow:loss = 0.7974, step = 32601\n",
      "INFO:tensorflow:global_step/sec: 113.759\n",
      "INFO:tensorflow:loss = 0.797347, step = 32701\n",
      "INFO:tensorflow:global_step/sec: 114.672\n",
      "INFO:tensorflow:loss = 0.797282, step = 32801\n",
      "INFO:tensorflow:global_step/sec: 109.643\n",
      "INFO:tensorflow:loss = 0.797229, step = 32901\n",
      "INFO:tensorflow:global_step/sec: 115.068\n",
      "INFO:tensorflow:loss = 0.797232, step = 33001\n",
      "INFO:tensorflow:global_step/sec: 111.476\n",
      "INFO:tensorflow:loss = 0.797171, step = 33101\n",
      "INFO:tensorflow:global_step/sec: 109.045\n",
      "INFO:tensorflow:loss = 0.797138, step = 33201\n",
      "INFO:tensorflow:global_step/sec: 112.988\n",
      "INFO:tensorflow:loss = 0.797075, step = 33301\n",
      "INFO:tensorflow:global_step/sec: 114.672\n",
      "INFO:tensorflow:loss = 0.797032, step = 33401\n",
      "INFO:tensorflow:global_step/sec: 113.372\n",
      "INFO:tensorflow:loss = 0.796987, step = 33501\n",
      "INFO:tensorflow:global_step/sec: 115.334\n",
      "INFO:tensorflow:loss = 0.797033, step = 33601\n",
      "INFO:tensorflow:global_step/sec: 112.988\n",
      "INFO:tensorflow:loss = 0.796924, step = 33701\n",
      "INFO:tensorflow:global_step/sec: 110.736\n",
      "INFO:tensorflow:loss = 0.796929, step = 33801\n",
      "INFO:tensorflow:global_step/sec: 115.201\n",
      "INFO:tensorflow:loss = 0.796882, step = 33901\n",
      "INFO:tensorflow:global_step/sec: 112.606\n",
      "INFO:tensorflow:loss = 0.796704, step = 34001\n",
      "INFO:tensorflow:global_step/sec: 112.101\n",
      "INFO:tensorflow:loss = 0.796719, step = 34101\n",
      "INFO:tensorflow:global_step/sec: 113.63\n",
      "INFO:tensorflow:loss = 0.796633, step = 34201\n",
      "INFO:tensorflow:global_step/sec: 111.601\n",
      "INFO:tensorflow:loss = 0.796525, step = 34301\n",
      "INFO:tensorflow:global_step/sec: 114.41\n",
      "INFO:tensorflow:loss = 0.796528, step = 34401\n",
      "INFO:tensorflow:global_step/sec: 111.725\n",
      "INFO:tensorflow:loss = 0.796334, step = 34501\n",
      "INFO:tensorflow:global_step/sec: 110.613\n",
      "INFO:tensorflow:loss = 0.796327, step = 34601\n",
      "INFO:tensorflow:global_step/sec: 113.63\n",
      "INFO:tensorflow:loss = 0.796154, step = 34701\n",
      "INFO:tensorflow:global_step/sec: 114.804\n",
      "INFO:tensorflow:loss = 0.795993, step = 34801\n",
      "INFO:tensorflow:global_step/sec: 110.858\n",
      "INFO:tensorflow:loss = 0.796062, step = 34901\n",
      "INFO:tensorflow:global_step/sec: 112.48\n",
      "INFO:tensorflow:Saving checkpoints for 35000 into C:\\Users\\cjeong\\AppData\\Local\\Temp\\tmp1dw3uww1\\model.ckpt.\n",
      "WARNING:tensorflow:*******************************************************\n",
      "WARNING:tensorflow:TensorFlow's V1 checkpoint format has been deprecated.\n",
      "WARNING:tensorflow:Consider switching to the more efficient V2 format:\n",
      "WARNING:tensorflow:   `tf.train.Saver(write_version=tf.train.SaverDef.V2)`\n",
      "WARNING:tensorflow:now on by default.\n",
      "WARNING:tensorflow:*******************************************************\n",
      "INFO:tensorflow:Loss for final step: 0.796019.\n",
      "WARNING:tensorflow:From C:\\Anaconda3\\lib\\site-packages\\tensorflow\\contrib\\learn\\python\\learn\\estimators\\dnn.py:348 in predict.: calling BaseEstimator.predict (from tensorflow.contrib.learn.python.learn.estimators.estimator) with x is deprecated and will be removed after 2016-12-01.\n",
      "Instructions for updating:\n",
      "Estimator is decoupled from Scikit Learn interface by moving into\n",
      "separate class SKCompat. Arguments x, y and batch_size are only\n",
      "available in the SKCompat class, Estimator will only accept input_fn.\n",
      "Example conversion:\n",
      "  est = Estimator(...) -> est = SKCompat(Estimator(...))\n",
      "WARNING:tensorflow:From C:\\Anaconda3\\lib\\site-packages\\tensorflow\\contrib\\learn\\python\\learn\\estimators\\dnn.py:348 in predict.: calling BaseEstimator.predict (from tensorflow.contrib.learn.python.learn.estimators.estimator) with batch_size is deprecated and will be removed after 2016-12-01.\n",
      "Instructions for updating:\n",
      "Estimator is decoupled from Scikit Learn interface by moving into\n",
      "separate class SKCompat. Arguments x, y and batch_size are only\n",
      "available in the SKCompat class, Estimator will only accept input_fn.\n",
      "Example conversion:\n",
      "  est = Estimator(...) -> est = SKCompat(Estimator(...))\n",
      "WARNING:tensorflow:From C:\\Anaconda3\\lib\\site-packages\\tensorflow\\contrib\\learn\\python\\learn\\estimators\\dnn.py:348 in predict.: calling BaseEstimator.predict (from tensorflow.contrib.learn.python.learn.estimators.estimator) with as_iterable is deprecated and will be removed after 2016-12-01.\n",
      "Instructions for updating:\n",
      "Estimator is decoupled from Scikit Learn interface by moving into\n",
      "separate class SKCompat. Arguments x, y and batch_size are only\n",
      "available in the SKCompat class, Estimator will only accept input_fn.\n",
      "Example conversion:\n",
      "  est = Estimator(...) -> est = SKCompat(Estimator(...))\n",
      "WARNING:tensorflow:float64 is not supported by many models, consider casting to float32.\n",
      "INFO:tensorflow:Summary name dnn/hiddenlayer_0:fraction_of_zero_values is illegal; using dnn/hiddenlayer_0_fraction_of_zero_values instead.\n",
      "INFO:tensorflow:Summary name dnn/hiddenlayer_0:activation is illegal; using dnn/hiddenlayer_0_activation instead.\n",
      "INFO:tensorflow:Summary name dnn/hiddenlayer_1:fraction_of_zero_values is illegal; using dnn/hiddenlayer_1_fraction_of_zero_values instead.\n",
      "INFO:tensorflow:Summary name dnn/hiddenlayer_1:activation is illegal; using dnn/hiddenlayer_1_activation instead.\n",
      "INFO:tensorflow:Summary name dnn/hiddenlayer_2:fraction_of_zero_values is illegal; using dnn/hiddenlayer_2_fraction_of_zero_values instead.\n",
      "INFO:tensorflow:Summary name dnn/hiddenlayer_2:activation is illegal; using dnn/hiddenlayer_2_activation instead.\n",
      "INFO:tensorflow:Summary name dnn/logits:fraction_of_zero_values is illegal; using dnn/logits_fraction_of_zero_values instead.\n",
      "INFO:tensorflow:Summary name dnn/logits:activation is illegal; using dnn/logits_activation instead.\n",
      "INFO:tensorflow:Loading model from checkpoint: C:\\Users\\cjeong\\AppData\\Local\\Temp\\tmp1dw3uww1\\model.ckpt-35000-?????-of-00001.\n"
     ]
    }
   ],
   "source": [
    "classifier_filtered.fit(x=X_train_full,\n",
    "               y=y_train_full,\n",
    "               steps=10000)\n",
    "predictions = classifier_filtered.predict(X_unknown)\n",
    "y_predict_filtered = []\n",
    "for i, p in enumerate(predictions):\n",
    "    y_predict_filtered.append(p)\n",
    "well_data['Facies'] = y_predict_filtered\n",
    "well_data\n",
    "well_data.to_csv('predict_result_dnn_full_data.csv')"
   ]
  },
  {
   "cell_type": "code",
   "execution_count": 27,
   "metadata": {
    "collapsed": false
   },
   "outputs": [
    {
     "name": "stdout",
     "output_type": "stream",
     "text": [
      "WARNING:tensorflow:From C:\\Anaconda3\\lib\\site-packages\\tensorflow\\contrib\\learn\\python\\learn\\estimators\\dnn.py:429 in export.: calling BaseEstimator.export (from tensorflow.contrib.learn.python.learn.estimators.estimator) with use_deprecated_input_fn=True is deprecated and will be removed after 2016-09-23.\n",
      "Instructions for updating:\n",
      "The signature of the input_fn accepted by export is changing to be consistent with what's used by tf.Learn Estimator's train/evaluate. input_fn (and in most cases, input_feature_key) will become required args, and use_deprecated_input_fn will default to False and be removed altogether.\n",
      "WARNING:tensorflow:From C:\\Anaconda3\\lib\\site-packages\\tensorflow\\contrib\\learn\\python\\learn\\estimators\\estimator.py:555 in export.: calling _export_estimator (from tensorflow.contrib.learn.python.learn.utils.export) with default_batch_size=1 is deprecated and will be removed after 2016-09-23.\n",
      "Instructions for updating:\n",
      "The signature of the input_fn accepted by export is changing to be consistent with what's used by tf.Learn Estimator's train/evaluate. input_fn and (and in most cases, input_feature_key) will become required args. use_deprecated_input_fn will default to False and be removed. default_batch_size will also be removed since it will now be a part of the input_fn.\n",
      "WARNING:tensorflow:From C:\\Anaconda3\\lib\\site-packages\\tensorflow\\contrib\\learn\\python\\learn\\estimators\\estimator.py:555 in export.: calling _export_estimator (from tensorflow.contrib.learn.python.learn.utils.export) with use_deprecated_input_fn=True is deprecated and will be removed after 2016-09-23.\n",
      "Instructions for updating:\n",
      "The signature of the input_fn accepted by export is changing to be consistent with what's used by tf.Learn Estimator's train/evaluate. input_fn and (and in most cases, input_feature_key) will become required args. use_deprecated_input_fn will default to False and be removed. default_batch_size will also be removed since it will now be a part of the input_fn.\n",
      "INFO:tensorflow:Summary name dnn/hiddenlayer_0:fraction_of_zero_values is illegal; using dnn/hiddenlayer_0_fraction_of_zero_values instead.\n",
      "INFO:tensorflow:Summary name dnn/hiddenlayer_0:activation is illegal; using dnn/hiddenlayer_0_activation instead.\n",
      "INFO:tensorflow:Summary name dnn/hiddenlayer_1:fraction_of_zero_values is illegal; using dnn/hiddenlayer_1_fraction_of_zero_values instead.\n",
      "INFO:tensorflow:Summary name dnn/hiddenlayer_1:activation is illegal; using dnn/hiddenlayer_1_activation instead.\n",
      "INFO:tensorflow:Summary name dnn/hiddenlayer_2:fraction_of_zero_values is illegal; using dnn/hiddenlayer_2_fraction_of_zero_values instead.\n",
      "INFO:tensorflow:Summary name dnn/hiddenlayer_2:activation is illegal; using dnn/hiddenlayer_2_activation instead.\n",
      "INFO:tensorflow:Summary name dnn/logits:fraction_of_zero_values is illegal; using dnn/logits_fraction_of_zero_values instead.\n",
      "INFO:tensorflow:Summary name dnn/logits:activation is illegal; using dnn/logits_activation instead.\n",
      "WARNING:tensorflow:*******************************************************\n",
      "WARNING:tensorflow:TensorFlow's V1 checkpoint format has been deprecated.\n",
      "WARNING:tensorflow:Consider switching to the more efficient V2 format:\n",
      "WARNING:tensorflow:   `tf.train.Saver(write_version=tf.train.SaverDef.V2)`\n",
      "WARNING:tensorflow:now on by default.\n",
      "WARNING:tensorflow:*******************************************************\n",
      "INFO:tensorflow:d:\\00015000-tmp\\export is not in all_model_checkpoint_paths. Manually adding it.\n"
     ]
    },
    {
     "data": {
      "text/plain": [
       "b'd:\\\\00015000'"
      ]
     },
     "execution_count": 27,
     "metadata": {},
     "output_type": "execute_result"
    }
   ],
   "source": [
    "#export_dir_path = 'd:\\\\'\n",
    "#classifier_filtered.export(export_dir_path)"
   ]
  },
  {
   "cell_type": "code",
   "execution_count": null,
   "metadata": {
    "collapsed": true
   },
   "outputs": [],
   "source": []
  }
 ],
 "metadata": {
  "anaconda-cloud": {},
  "kernelspec": {
   "display_name": "Python [Root]",
   "language": "python",
   "name": "Python [Root]"
  },
  "language_info": {
   "codemirror_mode": {
    "name": "ipython",
    "version": 3
   },
   "file_extension": ".py",
   "mimetype": "text/x-python",
   "name": "python",
   "nbconvert_exporter": "python",
   "pygments_lexer": "ipython3",
   "version": "3.5.2"
  }
 },
 "nbformat": 4,
 "nbformat_minor": 0
}
